{
  "nbformat": 4,
  "nbformat_minor": 0,
  "metadata": {
    "colab": {
      "provenance": [],
      "authorship_tag": "ABX9TyOW+7IViI/KmiDheQgoxnbt",
      "include_colab_link": true
    },
    "kernelspec": {
      "name": "python3",
      "display_name": "Python 3"
    },
    "language_info": {
      "name": "python"
    }
  },
  "cells": [
    {
      "cell_type": "markdown",
      "metadata": {
        "id": "view-in-github",
        "colab_type": "text"
      },
      "source": [
        "<a href=\"https://colab.research.google.com/github/tumikosha/ds/blob/main/turism.ipynb\" target=\"_parent\"><img src=\"https://colab.research.google.com/assets/colab-badge.svg\" alt=\"Open In Colab\"/></a>"
      ]
    },
    {
      "cell_type": "code",
      "execution_count": 152,
      "metadata": {
        "id": "23qXulMnT2Lg",
        "colab": {
          "base_uri": "https://localhost:8080/"
        },
        "outputId": "deb09da8-090f-4e6a-a3e9-fa72d679ac1a"
      },
      "outputs": [
        {
          "output_type": "stream",
          "name": "stdout",
          "text": [
            "  % Total    % Received % Xferd  Average Speed   Time    Time     Time  Current\n",
            "                                 Dload  Upload   Total   Spent    Left  Speed\n",
            "  0     0    0     0    0     0      0      0 --:--:--  0:00:01 --:--:--     0\n",
            "100 1914k  100 1914k    0     0  1378k      0  0:00:01  0:00:01 --:--:-- 1378k\n"
          ]
        }
      ],
      "source": [
        "# !curl -L -o etapa1_full.csv https://drive.google.com/u/0/uc?id=1_sjviByPoVQPJA5ZDhdOej-HvvifbBXA\n",
        "# !curl -L -o etapa2.csv https://drive.google.com/u/0/uc?id=1ixzeORjUzJLT7nEetQ6amJP0wQH01DNR\n",
        "# !curl -L -o etapa3.csv https://drive.google.com/u/0/uc?id=1auvyubEeTFMZpMyzK80HmOkDsbwpUJxJ \n",
        "# !curl -L -o etapa4.csv https://drive.google.com/u/0/uc?id=1aBt3zjn6M-ceDpsdXMoZU21q9DbP2z8n \n",
        "!curl -L  https://drive.google.com/uc?id=1Hi188_hFHApCCNtCQ6Spv5lO2DgORFUf   >turism.csv"
      ]
    },
    {
      "cell_type": "code",
      "source": [
        "import pandas as pd\n",
        "df = pd.read_csv(\"turism.csv\")\n",
        "df.corr()"
      ],
      "metadata": {
        "id": "F6ouhVyT11h2"
      },
      "execution_count": null,
      "outputs": []
    },
    {
      "cell_type": "code",
      "source": [],
      "metadata": {
        "id": "B27pbGawWtm1"
      },
      "execution_count": null,
      "outputs": []
    },
    {
      "cell_type": "code",
      "source": [
        "import pandas as pd\n",
        "turism = {\n",
        "    'VKunitki': {\n",
        "        'Khalkidhiki': 4.5, 'Thasos': 5.0,  'Crete': 5.0,  'Santorini': 4.5, 'Odessa': 2.5,  'Zatoka': 1.0, 'Romania': 2.0,\n",
        "        'Krakow': 5.0, 'Rome': 5.0,  'Vienna': 5.0,  'Milano': 5.0,  'Moscow': 5.0,  'Odessa': 2.5, 'Oia': 1,\n",
        "    },\n",
        "    'Olga': { 'Khalkidhiki': 4.5,        'Thasos': 5.0,  'Crete': 5.0,        'Santorini': 4.5,   'Odessa': 2.5,    },\n",
        "    'Sasha': {'Thasos': 5.0,   'Crete': 5.0,  'Santorini': 4.5,  'Odessa': 2.5,   'Vienna': 5.0, 'Berlin': 5.0 , 'Oia': 4 },\n",
        "    'Ion': {   'Leptokaria': 3.5,   'Moscow': 5.0,    'London': 4.5,  }\n",
        "}\n"
      ],
      "metadata": {
        "id": "R8xAxhyTUC5u"
      },
      "execution_count": 154,
      "outputs": []
    },
    {
      "cell_type": "code",
      "source": [
        "def sim_distance(prefs, p1, p2):\n",
        "    '''\n",
        "    Returns a distance-based similarity score for person1 and person2.\n",
        "    '''\n",
        "\n",
        "    # Get the list of shared_items\n",
        "    si = {}\n",
        "    for item in prefs[p1]:\n",
        "        if item in prefs[p2]:\n",
        "            si[item] = 1\n",
        "    # If they have no ratings in common, return 0\n",
        "    if len(si) == 0:\n",
        "        return 0\n",
        "    # Add up the squares of all the differences\n",
        "    sum_of_squares = sum([pow(prefs[p1][item] - prefs[p2][item], 2) for item in\n",
        "                         prefs[p1] if item in prefs[p2]])\n",
        "    return 1 / (1 + sqrt(sum_of_squares))\n",
        "\n",
        "\n",
        "def sim_pearson(prefs, p1, p2):\n",
        "    '''\n",
        "    Returns the Pearson correlation coefficient for p1 and p2.\n",
        "    '''\n",
        "\n",
        "    # Get the list of mutually rated items\n",
        "    si = {}\n",
        "    for item in prefs[p1]:\n",
        "        if item in prefs[p2]:\n",
        "            si[item] = 1\n",
        "    # If they are no ratings in common, return 0\n",
        "    if len(si) == 0:\n",
        "        return 0\n",
        "    # Sum calculations\n",
        "    n = len(si)\n",
        "    # Sums of all the preferences\n",
        "    sum1 = sum([prefs[p1][it] for it in si])\n",
        "    sum2 = sum([prefs[p2][it] for it in si])\n",
        "    # Sums of the squares\n",
        "    sum1Sq = sum([pow(prefs[p1][it], 2) for it in si])\n",
        "    sum2Sq = sum([pow(prefs[p2][it], 2) for it in si])\n",
        "    # Sum of the products\n",
        "    pSum = sum([prefs[p1][it] * prefs[p2][it] for it in si])\n",
        "    # Calculate r (Pearson score)\n",
        "    num = pSum - sum1 * sum2 / n\n",
        "    den = sqrt((sum1Sq - pow(sum1, 2) / n) * (sum2Sq - pow(sum2, 2) / n))\n",
        "    if den == 0:\n",
        "        return 0\n",
        "    r = num / den\n",
        "    return r\n",
        "\n",
        "\n",
        "def topMatches(\n",
        "    prefs,\n",
        "    person,\n",
        "    n=5,\n",
        "    similarity=sim_pearson,\n",
        "):\n",
        "    '''\n",
        "    Returns the best matches for person from the prefs dictionary.\n",
        "    Number of results and similarity function are optional params.\n",
        "    '''\n",
        "\n",
        "    scores = [(similarity(prefs, person, other), other) for other in prefs\n",
        "              if (other != person) and (type(other) is IntType) ]\n",
        "    for other in prefs:\n",
        "         print(other, type(other))\n",
        "         print(float(other))\n",
        "    print(scores)\n",
        "    scores.sort() # TypeError: unorderable types: str() < int()\n",
        "    scores.reverse()\n",
        "    return scores[0:n]\n",
        "\n",
        "\n",
        "def getRecommendations(prefs, person, similarity=sim_pearson):\n",
        "    # Получить рекомендации для заданного человека, пользуясь взвешенным средним\n",
        "    # оценок, данных всеми остальными пользователями\n",
        "\n",
        "    totals = {}\n",
        "    simSums = {}\n",
        "    for other in prefs:\n",
        "        # сравнивать меня с собой же не нужно\n",
        "        if other == person: continue\n",
        "        sim = similarity(prefs, person, other)\n",
        "        # игнорировать нулевые и отрицательные оценки\n",
        "        if sim <= 0:\n",
        "            continue\n",
        "        for item in prefs[other]:\n",
        "            # оценивать только фильмы, которые я еще не смотрел\n",
        "            if item not in prefs[person] or prefs[person][item] == 0:\n",
        "                ## Коэффициент подобия * Оценка = Similarity * Score\n",
        "                totals.setdefault(item, 0)\n",
        "                # The final score is calculated by multiplying each item by the\n",
        "                #   similarity and adding these products together\n",
        "                totals[item] += prefs[other][item] * sim\n",
        "                ## Сумма коэффициентов подобия,  Sum of similarities\n",
        "                simSums.setdefault(item, 0)\n",
        "                simSums[item] += sim\n",
        "    # Создать нормализованный список\n",
        "    rankings = [(total / simSums[item], item) for (item, total) in\n",
        "                totals.items()]\n",
        "    # Вернуть отсортированный список, # Return the sorted list\n",
        "    rankings.sort()\n",
        "    rankings.reverse()\n",
        "    return rankings\n"
      ],
      "metadata": {
        "id": "pTpc2vuKMCaf"
      },
      "execution_count": 155,
      "outputs": []
    },
    {
      "cell_type": "code",
      "source": [
        "\n",
        "import pandas as pd\n",
        "df = pd.read_csv(\"turism.csv\")\n",
        "# transforming pandas into trips structure\n",
        "turism = {\n",
        "    'Ion': {   'Leptokaria': 3.5,   'Moscow': 5.0,    'London': 4.5,  }\n",
        "}\n",
        "\n",
        "def nota(txt):\n",
        "  txt = txt.lower().strip()\n",
        "  if txt == \"very satisfied\": return 5\n",
        "  if txt == \"satisfied\": return 4\n",
        "  if txt == \"neither satisfied, nor dissatisfied\": return 3\n",
        "  if txt == \"dissatisfied\": return 2\n",
        "  if txt == \"very dissatisfied\": return 1\n",
        "  return 0\n",
        "\n",
        "def code(v1, v2, obj):\n",
        "    if v1==\"I visited\":  \n",
        "        if nota(v2)!=0 :  trips[obj]= nota(v2) \n",
        "\n",
        "# for idx, row in df[0:20].iterrows():\n",
        "for idx, row in df.iterrows():\n",
        "    # print(row['id'])\n",
        "    trips={} \n",
        "    code(row['Q26_11'], row['Q27_11'], 'Museums')  \n",
        "    code(row['Q26_12'], row['Q27_12'], 'Theaters')  \n",
        "\n",
        "    code(row['Q26_13'], row['Q27_13'], 'Restaurants') \n",
        "    code(row['Q26_13'], row['Q27_13'], 'Wine')  \n",
        "    code(row['Q26_13'], row['Q27_13'], 'Clubs') \n",
        "\n",
        "    code(row['Q26_21'], row['Q27_21'], 'Milestii mici')  \n",
        "    code(row['Q26_22'], row['Q27_22'], 'Cricova')         \n",
        "    code(row['Q26_23'], row['Q27_23'], 'Purcari')         \n",
        "    code(row['Q26_24'], row['Q27_24'], 'Chateau Cojushna')\n",
        "    code(row['Q26_25'], row['Q27_25'], 'Chateau Vartely')\n",
        "    code(row['Q26_26'], row['Q27_26'], 'Castel Mimi')\n",
        "    code(row['Q26_27'], row['Q27_27'], 'Asconi Winery')\n",
        "    code(row['Q26_27'], row['Q27_27'], 'EtCetera Winery')\n",
        "    code(row['Q26_3'], row['Q27_3'], 'Orheiul Vechi')\n",
        "    code(row['Q26_41'], row['Q27_41'], 'Capriana')\n",
        "    code(row['Q26_42'], row['Q27_42'], 'Saharna')\n",
        "    code(row['Q26_43'], row['Q27_43'], 'Tipova')  \n",
        "\n",
        "    code(row['Q26_51'], row['Q27_51'], 'Soroca fortress')  \n",
        "    code(row['Q26_52'], row['Q27_52'], 'The castle Manuc Bei') \n",
        "    code(row['Q26_53'], row['Q27_53'], 'Castle Mimi') \n",
        "    \n",
        "    code(row['Q26_61'], row['Q27_61'], 'Padurea Domneasca') \n",
        "    code(row['Q26_62'], row['Q27_62'], 'Codri') \n",
        "    code(row['Q26_63'], row['Q27_63'], 'Cave Emil Racovita') \n",
        "    code(row['Q26_64'], row['Q27_64'], 'Lower Prut Biosphere') \n",
        "\n",
        "    code(row['Q26_71'], row['Q27_71'], 'Chisinau nternational Marathon (September)') \n",
        "    code(row['Q26_72'], row['Q27_72'], 'Ethnojazz Festival Spt. 20-30') \n",
        "    code(row['Q26_73'], row['Q27_73'], 'Wine Festival Oct 6-7') \n",
        "    code(row['Q26_74'], row['Q27_74'], 'City Anniversary') \n",
        "    code(row['Q26_74'], row['Q27_74'], 'Weddings/cumatria')     \n",
        "\n",
        "    code(row['Q26_81'], row['Q27_81'], 'Weddings/cumatria')     \n",
        "    code(row['Q26_82'], row['Q27_82'], 'Casa din Lunca')  \n",
        "    code(row['Q26_83'], row['Q27_83'], 'Hanu lui Ganganu') \n",
        "    code(row['Q26_84'], row['Q27_84'], 'Fata Morgana') \n",
        "    code(row['Q26_85'], row['Q27_85'], 'The greeen house/Casa Verde') \n",
        "    code(row['Q26_86'], row['Q27_86'], 'Pink Villa/Vila Roz') \n",
        "    # print(idx, trips)\n",
        "    turism[row['id']]=trips\n",
        "\n",
        "my_name = \"Newbie\"\n",
        "turism[my_name] = {'Cricova':1, 'Purcari':1}   \n",
        "print(\"recommendations: \", getRecommendations(turism, my_name, similarity=sim_distance))\n"
      ],
      "metadata": {
        "colab": {
          "base_uri": "https://localhost:8080/"
        },
        "id": "HtXmw6WNLaC8",
        "outputId": "7295875f-f573-4847-c244-097236670f57"
      },
      "execution_count": 157,
      "outputs": [
        {
          "output_type": "stream",
          "name": "stdout",
          "text": [
            "recommendations:  [(4.776527513235389, 'EtCetera Winery'), (4.776527513235389, 'Asconi Winery'), (4.762992047566224, 'Milestii mici'), (4.759241468071656, 'Castle Mimi'), (4.722337080232387, 'Wine Festival Oct 6-7'), (4.718871873386073, 'Chateau Vartely'), (4.710556558469732, 'Castel Mimi'), (4.702087619943356, 'City Anniversary'), (4.687033185196309, 'Orheiul Vechi'), (4.643624476277735, 'Weddings/cumatria'), (4.638962104383786, 'Theaters'), (4.6344872013297325, 'Chateau Cojushna'), (4.631969957271742, 'Wine'), (4.631969957271742, 'Restaurants'), (4.631969957271742, 'Clubs'), (4.623012422845682, 'Saharna'), (4.591811589093858, 'Lower Prut Biosphere'), (4.591677890340191, 'Casa din Lunca'), (4.591108432671799, 'Tipova'), (4.589958142054848, 'Soroca fortress'), (4.568934813547271, 'Capriana'), (4.5549757228838565, 'Fata Morgana'), (4.507654598993962, 'Museums'), (4.498399346695305, 'Hanu lui Ganganu'), (4.488888888677119, 'Padurea Domneasca'), (4.4519544122823, 'The greeen house/Casa Verde'), (4.447097886457796, 'Codri'), (4.40761070600282, 'The castle Manuc Bei'), (4.351642042543084, 'Ethnojazz Festival Spt. 20-30'), (4.220792364874094, 'Cave Emil Racovita'), (4.217169786475318, 'Chisinau nternational Marathon (September)'), (4.215589274551355, 'Pink Villa/Vila Roz')]\n"
          ]
        }
      ]
    }
  ]
}