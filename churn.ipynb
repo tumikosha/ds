{
  "nbformat": 4,
  "nbformat_minor": 0,
  "metadata": {
    "colab": {
      "provenance": [],
      "authorship_tag": "ABX9TyPVXDo4QEowGr0rvBM1xB1P",
      "include_colab_link": true
    },
    "kernelspec": {
      "name": "python3",
      "display_name": "Python 3"
    },
    "language_info": {
      "name": "python"
    }
  },
  "cells": [
    {
      "cell_type": "markdown",
      "metadata": {
        "id": "view-in-github",
        "colab_type": "text"
      },
      "source": [
        "<a href=\"https://colab.research.google.com/github/tumikosha/ds/blob/main/churn.ipynb\" target=\"_parent\"><img src=\"https://colab.research.google.com/assets/colab-badge.svg\" alt=\"Open In Colab\"/></a>"
      ]
    },
    {
      "cell_type": "code",
      "execution_count": null,
      "metadata": {
        "id": "23qXulMnT2Lg"
      },
      "outputs": [],
      "source": [
        "!curl -L -o etapa1_full.csv https://drive.google.com/u/0/uc?id=1_sjviByPoVQPJA5ZDhdOej-HvvifbBXA\n",
        "!curl -L -o etapa2.csv https://drive.google.com/u/0/uc?id=1ixzeORjUzJLT7nEetQ6amJP0wQH01DNR\n",
        "!curl -L -o etapa3.csv https://drive.google.com/u/0/uc?id=1auvyubEeTFMZpMyzK80HmOkDsbwpUJxJ \n",
        "!curl -L -o etapa4.csv https://drive.google.com/u/0/uc?id=1aBt3zjn6M-ceDpsdXMoZU21q9DbP2z8n "
      ]
    },
    {
      "cell_type": "code",
      "source": [
        "import pandas as pd\n",
        "df_etapa1_full = pd.read_csv(\"etapa1_full.csv\", delimiter=';', low_memory=False)\n",
        "print(\"etapa1_full.csv\", df_etapa1_full.shape)\n",
        "df_etapa2 = pd.read_csv(\"etapa2.csv\", delimiter=';', low_memory=False)\n",
        "print(\"etapa2.csv\", df_etapa2.shape)\n",
        "df_etapa3 = pd.read_csv(\"etapa3.csv\", delimiter=';', low_memory=False)\n",
        "print(\"etapa3.csv\", df_etapa3.shape)\n",
        "df_etapa4 = pd.read_csv(\"etapa4.csv\", delimiter=';', low_memory=False)\n",
        "print(\"etapa4.csv\",df_etapa4.shape)"
      ],
      "metadata": {
        "colab": {
          "base_uri": "https://localhost:8080/"
        },
        "id": "R8xAxhyTUC5u",
        "outputId": "31200803-c075-460b-b784-371eaf40b703"
      },
      "execution_count": 2,
      "outputs": [
        {
          "output_type": "stream",
          "name": "stdout",
          "text": [
            "etapa1_full.csv (55605, 35)\n",
            "etapa2.csv (109545, 33)\n",
            "etapa3.csv (166257, 33)\n",
            "etapa4.csv (222715, 33)\n"
          ]
        }
      ]
    }
  ]
}