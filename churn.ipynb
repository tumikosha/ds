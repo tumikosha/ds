{
  "nbformat": 4,
  "nbformat_minor": 0,
  "metadata": {
    "colab": {
      "provenance": [],
      "authorship_tag": "ABX9TyOeolKBo9SLM0QqT18wIxsr",
      "include_colab_link": true
    },
    "kernelspec": {
      "name": "python3",
      "display_name": "Python 3"
    },
    "language_info": {
      "name": "python"
    }
  },
  "cells": [
    {
      "cell_type": "markdown",
      "metadata": {
        "id": "view-in-github",
        "colab_type": "text"
      },
      "source": [
        "<a href=\"https://colab.research.google.com/github/tumikosha/ds/blob/main/churn.ipynb\" target=\"_parent\"><img src=\"https://colab.research.google.com/assets/colab-badge.svg\" alt=\"Open In Colab\"/></a>"
      ]
    },
    {
      "cell_type": "code",
      "execution_count": 22,
      "metadata": {
        "id": "23qXulMnT2Lg",
        "colab": {
          "base_uri": "https://localhost:8080/"
        },
        "outputId": "0187add1-7614-4785-eb13-55cee5f497e9"
      },
      "outputs": [
        {
          "output_type": "stream",
          "name": "stdout",
          "text": [
            "  % Total    % Received % Xferd  Average Speed   Time    Time     Time  Current\n",
            "                                 Dload  Upload   Total   Spent    Left  Speed\n",
            "  0     0    0     0    0     0      0      0 --:--:-- --:--:-- --:--:--     0\n",
            "  0     0    0     0    0     0      0      0 --:--:--  0:00:01 --:--:--     0\n",
            "100 12.0M  100 12.0M    0     0  6991k      0  0:00:01  0:00:01 --:--:-- 6991k\n",
            "  % Total    % Received % Xferd  Average Speed   Time    Time     Time  Current\n",
            "                                 Dload  Upload   Total   Spent    Left  Speed\n",
            "  0     0    0     0    0     0      0      0 --:--:-- --:--:-- --:--:--     0\n",
            "  0     0    0     0    0     0      0      0 --:--:--  0:00:01 --:--:--     0\n",
            "100 22.8M  100 22.8M    0     0  10.2M      0  0:00:02  0:00:02 --:--:-- 10.2M\n",
            "  % Total    % Received % Xferd  Average Speed   Time    Time     Time  Current\n",
            "                                 Dload  Upload   Total   Spent    Left  Speed\n",
            "  0     0    0     0    0     0      0      0 --:--:-- --:--:-- --:--:--     0\n",
            "  0     0    0     0    0     0      0      0 --:--:--  0:00:01 --:--:--     0\n",
            "100 34.7M  100 34.7M    0     0  17.2M      0  0:00:02  0:00:02 --:--:-- 17.2M\n",
            "  % Total    % Received % Xferd  Average Speed   Time    Time     Time  Current\n",
            "                                 Dload  Upload   Total   Spent    Left  Speed\n",
            "  0     0    0     0    0     0      0      0 --:--:-- --:--:-- --:--:--     0\n",
            "  0     0    0     0    0     0      0      0 --:--:--  0:00:01 --:--:--     0\n",
            "100 46.5M  100 46.5M    0     0  25.7M      0  0:00:01  0:00:01 --:--:--  184M\n",
            "Looking in indexes: https://pypi.org/simple, https://us-python.pkg.dev/colab-wheels/public/simple/\n",
            "Requirement already satisfied: lazypredict in /usr/local/lib/python3.8/dist-packages (0.2.12)\n",
            "Requirement already satisfied: scikit-learn in /usr/local/lib/python3.8/dist-packages (from lazypredict) (1.2.1)\n",
            "Requirement already satisfied: xgboost in /usr/local/lib/python3.8/dist-packages (from lazypredict) (1.7.4)\n",
            "Requirement already satisfied: joblib in /usr/local/lib/python3.8/dist-packages (from lazypredict) (1.2.0)\n",
            "Requirement already satisfied: click in /usr/local/lib/python3.8/dist-packages (from lazypredict) (8.1.3)\n",
            "Requirement already satisfied: lightgbm in /usr/local/lib/python3.8/dist-packages (from lazypredict) (2.2.3)\n",
            "Requirement already satisfied: pandas in /usr/local/lib/python3.8/dist-packages (from lazypredict) (1.3.5)\n",
            "Requirement already satisfied: tqdm in /usr/local/lib/python3.8/dist-packages (from lazypredict) (4.64.1)\n",
            "Requirement already satisfied: numpy in /usr/local/lib/python3.8/dist-packages (from lightgbm->lazypredict) (1.22.4)\n",
            "Requirement already satisfied: scipy in /usr/local/lib/python3.8/dist-packages (from lightgbm->lazypredict) (1.10.1)\n",
            "Requirement already satisfied: python-dateutil>=2.7.3 in /usr/local/lib/python3.8/dist-packages (from pandas->lazypredict) (2.8.2)\n",
            "Requirement already satisfied: pytz>=2017.3 in /usr/local/lib/python3.8/dist-packages (from pandas->lazypredict) (2022.7.1)\n",
            "Requirement already satisfied: threadpoolctl>=2.0.0 in /usr/local/lib/python3.8/dist-packages (from scikit-learn->lazypredict) (3.1.0)\n",
            "Requirement already satisfied: six>=1.5 in /usr/local/lib/python3.8/dist-packages (from python-dateutil>=2.7.3->pandas->lazypredict) (1.15.0)\n"
          ]
        }
      ],
      "source": [
        "!curl -L -o etapa1_full.csv https://drive.google.com/u/0/uc?id=1_sjviByPoVQPJA5ZDhdOej-HvvifbBXA\n",
        "!curl -L -o etapa2.csv https://drive.google.com/u/0/uc?id=1ixzeORjUzJLT7nEetQ6amJP0wQH01DNR\n",
        "!curl -L -o etapa3.csv https://drive.google.com/u/0/uc?id=1auvyubEeTFMZpMyzK80HmOkDsbwpUJxJ \n",
        "!curl -L -o etapa4.csv https://drive.google.com/u/0/uc?id=1aBt3zjn6M-ceDpsdXMoZU21q9DbP2z8n \n",
        "!pip install lazypredict"
      ]
    },
    {
      "cell_type": "code",
      "source": [
        "import pandas as pd\n",
        "df_etapa1_full = pd.read_csv(\"etapa1_full.csv\", delimiter=';', low_memory=False)\n",
        "print(\"etapa1_full.csv\", df_etapa1_full.shape)\n",
        "print(df_etapa1_full.columns)\n",
        "df_etapa2 = pd.read_csv(\"etapa2.csv\", delimiter=';', low_memory=False)\n",
        "print(\"etapa2.csv\", df_etapa2.shape)\n",
        "print(df_etapa2.columns)\n",
        "df_etapa3 = pd.read_csv(\"etapa3.csv\", delimiter=';', low_memory=False)\n",
        "print(\"etapa3.csv\", df_etapa3.shape)\n",
        "print(df_etapa3.columns)\n",
        "df_etapa4 = pd.read_csv(\"etapa4.csv\", delimiter=';', low_memory=False)\n",
        "print(\"etapa4.csv\", df_etapa4.shape)\n",
        "print(df_etapa4.columns)"
      ],
      "metadata": {
        "colab": {
          "base_uri": "https://localhost:8080/"
        },
        "id": "R8xAxhyTUC5u",
        "outputId": "252f96e2-b344-4f7d-c824-d682141bea36"
      },
      "execution_count": 3,
      "outputs": [
        {
          "output_type": "stream",
          "name": "stdout",
          "text": [
            "etapa1_full.csv (55605, 35)\n",
            "Index(['ACCOUNTID', 'CODE', 'CODE_MA', 'PERIOADA', 'CONTRACT_LENGTH',\n",
            "       'CONTRACT_START_DATE', 'CONTRACT_EXPIRATION_DATE', 'CREANTE_REST',\n",
            "       'CONCURENTI', 'INCIDENTE', 'STATUT_CONTRACT', 'SOLICITARI_REZILIERE',\n",
            "       'NET_PARAMS', 'PRET_ABON', 'QUALITY_PERCEPTION', 'COST_PERCEPTION',\n",
            "       'TECHNOLOGY', 'IPTV_STB_QUANTITY', 'INET_PACK', 'IPTV_PACK',\n",
            "       'QNT_APELARI', 'QNT_PORT_REZ', 'AVG_PERCEPTION', 'QNT_SUSP',\n",
            "       'QNT_INCEDENT', 'LUNA_SUSPENDARI', 'LUNA_INCIDENT', 'LUNA_APEL',\n",
            "       'LUNI_DATOR', 'PERIOADA_ACHITARII', 'SUMA_ACHITARII', 'MULTIPLAY',\n",
            "       'CNT_SERVICII', 'IS_CHURN', 'CHURN_DATE'],\n",
            "      dtype='object')\n",
            "etapa2.csv (109545, 33)\n",
            "Index(['ACCOUNTID', 'CODE', 'CODE_MA', 'PERIOADA', 'CONTRACT_LENGTH',\n",
            "       'CONTRACT_START_DATE', 'CONTRACT_EXPIRATION_DATE', 'CREANTE_REST',\n",
            "       'CONCURENTI', 'INCIDENTE', 'STATUT_CONTRACT', 'SOLICITARI_REZILIERE',\n",
            "       'NET_PARAMS', 'PRET_ABON', 'QUALITY_PERCEPTION', 'COST_PERCEPTION',\n",
            "       'TECHNOLOGY', 'IPTV_STB_QUANTITY', 'INET_PACK', 'IPTV_PACK',\n",
            "       'QNT_APELARI', 'QNT_PORT_REZ', 'AVG_PERCEPTION', 'QNT_SUSP',\n",
            "       'QNT_INCEDENT', 'LUNA_SUSPENDARI', 'LUNA_INCIDENT', 'LUNA_APEL',\n",
            "       'LUNI_DATOR', 'PERIOADA_ACHITARII', 'SUMA_ACHITARII', 'MULTIPLAY',\n",
            "       'CNT_SERVICII'],\n",
            "      dtype='object')\n",
            "etapa3.csv (166257, 33)\n",
            "Index(['ACCOUNTID', 'CODE', 'CODE_MA', 'PERIOADA', 'CONTRACT_LENGTH',\n",
            "       'CONTRACT_START_DATE', 'CONTRACT_EXPIRATION_DATE', 'CREANTE_REST',\n",
            "       'CONCURENTI', 'INCIDENTE', 'STATUT_CONTRACT', 'SOLICITARI_REZILIERE',\n",
            "       'NET_PARAMS', 'PRET_ABON', 'QUALITY_PERCEPTION', 'COST_PERCEPTION',\n",
            "       'TECHNOLOGY', 'IPTV_STB_QUANTITY', 'INET_PACK', 'IPTV_PACK',\n",
            "       'QNT_APELARI', 'QNT_PORT_REZ', 'AVG_PERCEPTION', 'QNT_SUSP',\n",
            "       'QNT_INCEDENT', 'LUNA_SUSPENDARI', 'LUNA_INCIDENT', 'LUNA_APEL',\n",
            "       'LUNI_DATOR', 'PERIOADA_ACHITARII', 'SUMA_ACHITARII', 'MULTIPLAY',\n",
            "       'CNT_SERVICII'],\n",
            "      dtype='object')\n",
            "etapa4.csv (222715, 33)\n",
            "Index(['ACCOUNTID', 'CODE', 'CODE_MA', 'PERIOADA', 'CONTRACT_LENGTH',\n",
            "       'CONTRACT_START_DATE', 'CONTRACT_EXPIRATION_DATE', 'CREANTE_REST',\n",
            "       'CONCURENTI', 'INCIDENTE', 'STATUT_CONTRACT', 'SOLICITARI_REZILIERE',\n",
            "       'NET_PARAMS', 'PRET_ABON', 'QUALITY_PERCEPTION', 'COST_PERCEPTION',\n",
            "       'TECHNOLOGY', 'IPTV_STB_QUANTITY', 'INET_PACK', 'IPTV_PACK',\n",
            "       'QNT_APELARI', 'QNT_PORT_REZ', 'AVG_PERCEPTION', 'QNT_SUSP',\n",
            "       'QNT_INCEDENT', 'LUNA_SUSPENDARI', 'LUNA_INCIDENT', 'LUNA_APEL',\n",
            "       'LUNI_DATOR', 'PERIOADA_ACHITARII', 'SUMA_ACHITARII', 'MULTIPLAY',\n",
            "       'CNT_SERVICII'],\n",
            "      dtype='object')\n"
          ]
        }
      ]
    },
    {
      "cell_type": "code",
      "source": [
        "from sklearn.ensemble import RandomForestClassifier\n",
        "from sklearn.metrics import accuracy_score, confusion_matrix, precision_score, recall_score, ConfusionMatrixDisplay\n",
        "from sklearn.model_selection import RandomizedSearchCV, train_test_split\n",
        "from scipy.stats import randint\n",
        "rf = RandomForestClassifier()\n",
        "rf.fit(xtrain, ytrain)\n",
        "ypred = rf.predict(xtest)\n",
        "accuracy = accuracy_score(ytest, ypred)\n",
        "print(\"Accuracy:\", accuracy)"
      ],
      "metadata": {
        "colab": {
          "base_uri": "https://localhost:8080/"
        },
        "id": "6fGIAhhXFygt",
        "outputId": "4214808a-975c-4c9e-c720-6f319403b8ec"
      },
      "execution_count": 7,
      "outputs": [
        {
          "output_type": "stream",
          "name": "stdout",
          "text": [
            "Accuracy: 0.9613559322033899\n"
          ]
        }
      ]
    },
    {
      "cell_type": "code",
      "source": [
        "import tqdm\n",
        "ok=0\n",
        "bad=0\n",
        "for n in tqdm.tqdm(range(0,len(xtest))):\n",
        "  ypred = rf.predict(xtest[n:n+1])  \n",
        "  if ypred != ytest[n:n+1]:    \n",
        "    bad+=1\n",
        "  else :\n",
        "    ok+=1\n",
        "  # print(xtest[n:n+1], ypred, ytest[n:n+1])\n",
        "\n",
        "print(\"\\n\", ok, bad, ok/len(xtest))"
      ],
      "metadata": {
        "colab": {
          "base_uri": "https://localhost:8080/"
        },
        "id": "NOZv5Y_-JSqW",
        "outputId": "9f4657d6-9faa-4277-94bc-0c893cec4296"
      },
      "execution_count": 34,
      "outputs": [
        {
          "output_type": "stream",
          "name": "stderr",
          "text": [
            "100%|██████████| 2950/2950 [00:53<00:00, 54.91it/s]"
          ]
        },
        {
          "output_type": "stream",
          "name": "stdout",
          "text": [
            "\n",
            " 2836 114 0.9613559322033899\n"
          ]
        },
        {
          "output_type": "stream",
          "name": "stderr",
          "text": [
            "\n"
          ]
        }
      ]
    }
  ]
}