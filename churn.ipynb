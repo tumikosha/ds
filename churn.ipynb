{
  "nbformat": 4,
  "nbformat_minor": 0,
  "metadata": {
    "colab": {
      "provenance": [],
      "authorship_tag": "ABX9TyM+bN3YKP03WE5QmmSpcusq",
      "include_colab_link": true
    },
    "kernelspec": {
      "name": "python3",
      "display_name": "Python 3"
    },
    "language_info": {
      "name": "python"
    }
  },
  "cells": [
    {
      "cell_type": "markdown",
      "metadata": {
        "id": "view-in-github",
        "colab_type": "text"
      },
      "source": [
        "<a href=\"https://colab.research.google.com/github/tumikosha/ds/blob/main/churn.ipynb\" target=\"_parent\"><img src=\"https://colab.research.google.com/assets/colab-badge.svg\" alt=\"Open In Colab\"/></a>"
      ]
    },
    {
      "cell_type": "code",
      "execution_count": 22,
      "metadata": {
        "id": "23qXulMnT2Lg",
        "colab": {
          "base_uri": "https://localhost:8080/"
        },
        "outputId": "0187add1-7614-4785-eb13-55cee5f497e9"
      },
      "outputs": [
        {
          "output_type": "stream",
          "name": "stdout",
          "text": [
            "  % Total    % Received % Xferd  Average Speed   Time    Time     Time  Current\n",
            "                                 Dload  Upload   Total   Spent    Left  Speed\n",
            "  0     0    0     0    0     0      0      0 --:--:-- --:--:-- --:--:--     0\n",
            "  0     0    0     0    0     0      0      0 --:--:--  0:00:01 --:--:--     0\n",
            "100 12.0M  100 12.0M    0     0  6991k      0  0:00:01  0:00:01 --:--:-- 6991k\n",
            "  % Total    % Received % Xferd  Average Speed   Time    Time     Time  Current\n",
            "                                 Dload  Upload   Total   Spent    Left  Speed\n",
            "  0     0    0     0    0     0      0      0 --:--:-- --:--:-- --:--:--     0\n",
            "  0     0    0     0    0     0      0      0 --:--:--  0:00:01 --:--:--     0\n",
            "100 22.8M  100 22.8M    0     0  10.2M      0  0:00:02  0:00:02 --:--:-- 10.2M\n",
            "  % Total    % Received % Xferd  Average Speed   Time    Time     Time  Current\n",
            "                                 Dload  Upload   Total   Spent    Left  Speed\n",
            "  0     0    0     0    0     0      0      0 --:--:-- --:--:-- --:--:--     0\n",
            "  0     0    0     0    0     0      0      0 --:--:--  0:00:01 --:--:--     0\n",
            "100 34.7M  100 34.7M    0     0  17.2M      0  0:00:02  0:00:02 --:--:-- 17.2M\n",
            "  % Total    % Received % Xferd  Average Speed   Time    Time     Time  Current\n",
            "                                 Dload  Upload   Total   Spent    Left  Speed\n",
            "  0     0    0     0    0     0      0      0 --:--:-- --:--:-- --:--:--     0\n",
            "  0     0    0     0    0     0      0      0 --:--:--  0:00:01 --:--:--     0\n",
            "100 46.5M  100 46.5M    0     0  25.7M      0  0:00:01  0:00:01 --:--:--  184M\n",
            "Looking in indexes: https://pypi.org/simple, https://us-python.pkg.dev/colab-wheels/public/simple/\n",
            "Requirement already satisfied: lazypredict in /usr/local/lib/python3.8/dist-packages (0.2.12)\n",
            "Requirement already satisfied: scikit-learn in /usr/local/lib/python3.8/dist-packages (from lazypredict) (1.2.1)\n",
            "Requirement already satisfied: xgboost in /usr/local/lib/python3.8/dist-packages (from lazypredict) (1.7.4)\n",
            "Requirement already satisfied: joblib in /usr/local/lib/python3.8/dist-packages (from lazypredict) (1.2.0)\n",
            "Requirement already satisfied: click in /usr/local/lib/python3.8/dist-packages (from lazypredict) (8.1.3)\n",
            "Requirement already satisfied: lightgbm in /usr/local/lib/python3.8/dist-packages (from lazypredict) (2.2.3)\n",
            "Requirement already satisfied: pandas in /usr/local/lib/python3.8/dist-packages (from lazypredict) (1.3.5)\n",
            "Requirement already satisfied: tqdm in /usr/local/lib/python3.8/dist-packages (from lazypredict) (4.64.1)\n",
            "Requirement already satisfied: numpy in /usr/local/lib/python3.8/dist-packages (from lightgbm->lazypredict) (1.22.4)\n",
            "Requirement already satisfied: scipy in /usr/local/lib/python3.8/dist-packages (from lightgbm->lazypredict) (1.10.1)\n",
            "Requirement already satisfied: python-dateutil>=2.7.3 in /usr/local/lib/python3.8/dist-packages (from pandas->lazypredict) (2.8.2)\n",
            "Requirement already satisfied: pytz>=2017.3 in /usr/local/lib/python3.8/dist-packages (from pandas->lazypredict) (2022.7.1)\n",
            "Requirement already satisfied: threadpoolctl>=2.0.0 in /usr/local/lib/python3.8/dist-packages (from scikit-learn->lazypredict) (3.1.0)\n",
            "Requirement already satisfied: six>=1.5 in /usr/local/lib/python3.8/dist-packages (from python-dateutil>=2.7.3->pandas->lazypredict) (1.15.0)\n"
          ]
        }
      ],
      "source": [
        "!curl -L -o etapa1_full.csv https://drive.google.com/u/0/uc?id=1_sjviByPoVQPJA5ZDhdOej-HvvifbBXA\n",
        "!curl -L -o etapa2.csv https://drive.google.com/u/0/uc?id=1ixzeORjUzJLT7nEetQ6amJP0wQH01DNR\n",
        "!curl -L -o etapa3.csv https://drive.google.com/u/0/uc?id=1auvyubEeTFMZpMyzK80HmOkDsbwpUJxJ \n",
        "!curl -L -o etapa4.csv https://drive.google.com/u/0/uc?id=1aBt3zjn6M-ceDpsdXMoZU21q9DbP2z8n \n",
        "!pip install lazypredict"
      ]
    },
    {
      "cell_type": "code",
      "source": [
        "import pandas as pd\n",
        "df_etapa1_full = pd.read_csv(\"etapa1_full.csv\", delimiter=';', low_memory=False)\n",
        "print(\"etapa1_full.csv\", df_etapa1_full.shape)\n",
        "df_etapa2 = pd.read_csv(\"etapa2.csv\", delimiter=';', low_memory=False)\n",
        "print(\"etapa2.csv\", df_etapa2.shape)\n",
        "df_etapa3 = pd.read_csv(\"etapa3.csv\", delimiter=';', low_memory=False)\n",
        "print(\"etapa3.csv\", df_etapa3.shape)\n",
        "df_etapa4 = pd.read_csv(\"etapa4.csv\", delimiter=';', low_memory=False)\n",
        "print(\"etapa4.csv\", df_etapa4.shape)"
      ],
      "metadata": {
        "colab": {
          "base_uri": "https://localhost:8080/"
        },
        "id": "R8xAxhyTUC5u",
        "outputId": "af8d7283-dcee-4f31-b68a-e842e37d6529"
      },
      "execution_count": 23,
      "outputs": [
        {
          "output_type": "stream",
          "name": "stdout",
          "text": [
            "etapa1_full.csv (55605, 35)\n",
            "etapa2.csv (109545, 33)\n",
            "etapa3.csv (166257, 33)\n",
            "etapa4.csv (222715, 33)\n"
          ]
        }
      ]
    },
    {
      "cell_type": "code",
      "source": [
        "df_etapa1_full.columns"
      ],
      "metadata": {
        "colab": {
          "base_uri": "https://localhost:8080/"
        },
        "id": "Hw9BXKEa1BjB",
        "outputId": "cef46e10-e9cc-4f9a-85c2-aa5302bff232"
      },
      "execution_count": 24,
      "outputs": [
        {
          "output_type": "execute_result",
          "data": {
            "text/plain": [
              "Index(['ACCOUNTID', 'CODE', 'CODE_MA', 'PERIOADA', 'CONTRACT_LENGTH',\n",
              "       'CONTRACT_START_DATE', 'CONTRACT_EXPIRATION_DATE', 'CREANTE_REST',\n",
              "       'CONCURENTI', 'INCIDENTE', 'STATUT_CONTRACT', 'SOLICITARI_REZILIERE',\n",
              "       'NET_PARAMS', 'PRET_ABON', 'QUALITY_PERCEPTION', 'COST_PERCEPTION',\n",
              "       'TECHNOLOGY', 'IPTV_STB_QUANTITY', 'INET_PACK', 'IPTV_PACK',\n",
              "       'QNT_APELARI', 'QNT_PORT_REZ', 'AVG_PERCEPTION', 'QNT_SUSP',\n",
              "       'QNT_INCEDENT', 'LUNA_SUSPENDARI', 'LUNA_INCIDENT', 'LUNA_APEL',\n",
              "       'LUNI_DATOR', 'PERIOADA_ACHITARII', 'SUMA_ACHITARII', 'MULTIPLAY',\n",
              "       'CNT_SERVICII', 'IS_CHURN', 'CHURN_DATE'],\n",
              "      dtype='object')"
            ]
          },
          "metadata": {},
          "execution_count": 24
        }
      ]
    },
    {
      "cell_type": "code",
      "source": [
        "# !pip install lazypredict\n",
        "from lazypredict.Supervised import LazyClassifier\n",
        "from sklearn.model_selection import train_test_split\n",
        "import numpy as np\n",
        "import pandas as pd\n",
        "import hashlib\n",
        "df = df_etapa1_full.copy(deep=True)\n",
        "print(df.columns)\n",
        "df['PRET_ABON'] = df['PRET_ABON'].apply(lambda col:   float(col.replace(\",\", \".\")   ))\n",
        "df[\"TECHNOLOGY\"] = df['TECHNOLOGY'].apply(lambda txt :   int(hashlib.sha1(txt.encode('utf-8')).hexdigest(), 16) % (10 ** 8) )\n",
        "df['IPTV_STB_QUANTITY'] = df['IPTV_STB_QUANTITY'].fillna(0).astype(int)\n",
        "\n",
        "# df = df[['IS_CHURN','CODE', 'CODE_MA','PERIOADA']]\n",
        "df = df[[ 'IS_CHURN','CONTRACT_LENGTH','PRET_ABON', 'CONCURENTI', 'INCIDENTE','STATUT_CONTRACT', \n",
        "         'IPTV_STB_QUANTITY', \n",
        "         ]]\n",
        "print(df.shape)\n",
        "df = df.dropna()\n",
        "print(\"COERRELATION\", np.corrcoef(df.PRET_ABON, df.IS_CHURN))\n",
        "cols = list(df.columns).copy()\n",
        "cols.remove(\"IS_CHURN\")\n",
        "print(\"COLS: \", cols)\n",
        "df=df[0:5000]\n",
        "x, y  = np.array(df[cols]) , np.array(df[[\"IS_CHURN\"]])\n",
        "xtrain, xtest, ytrain, ytest = train_test_split(x, y, test_size=0.10, random_state=42)\n",
        "\n",
        "clf = LazyClassifier(verbose=0, ignore_warnings=True, custom_metric=None)\n",
        "models, predictions = clf.fit(xtrain, xtest, ytrain, ytest)\n",
        "# models\n",
        "print(predictions)"
      ],
      "metadata": {
        "colab": {
          "base_uri": "https://localhost:8080/"
        },
        "id": "-jPeyvmY0rcM",
        "outputId": "d643b7c4-e715-47f2-bb30-9bb2707445a7"
      },
      "execution_count": 25,
      "outputs": [
        {
          "output_type": "stream",
          "name": "stdout",
          "text": [
            "Index(['ACCOUNTID', 'CODE', 'CODE_MA', 'PERIOADA', 'CONTRACT_LENGTH',\n",
            "       'CONTRACT_START_DATE', 'CONTRACT_EXPIRATION_DATE', 'CREANTE_REST',\n",
            "       'CONCURENTI', 'INCIDENTE', 'STATUT_CONTRACT', 'SOLICITARI_REZILIERE',\n",
            "       'NET_PARAMS', 'PRET_ABON', 'QUALITY_PERCEPTION', 'COST_PERCEPTION',\n",
            "       'TECHNOLOGY', 'IPTV_STB_QUANTITY', 'INET_PACK', 'IPTV_PACK',\n",
            "       'QNT_APELARI', 'QNT_PORT_REZ', 'AVG_PERCEPTION', 'QNT_SUSP',\n",
            "       'QNT_INCEDENT', 'LUNA_SUSPENDARI', 'LUNA_INCIDENT', 'LUNA_APEL',\n",
            "       'LUNI_DATOR', 'PERIOADA_ACHITARII', 'SUMA_ACHITARII', 'MULTIPLAY',\n",
            "       'CNT_SERVICII', 'IS_CHURN', 'CHURN_DATE'],\n",
            "      dtype='object')\n",
            "(55605, 7)\n",
            "COERRELATION [[ 1.         -0.07363762]\n",
            " [-0.07363762  1.        ]]\n",
            "COLS:  ['CONTRACT_LENGTH', 'PRET_ABON', 'CONCURENTI', 'INCIDENTE', 'STATUT_CONTRACT', 'IPTV_STB_QUANTITY']\n"
          ]
        },
        {
          "output_type": "stream",
          "name": "stderr",
          "text": [
            "100%|██████████| 29/29 [00:10<00:00,  2.68it/s]"
          ]
        },
        {
          "output_type": "stream",
          "name": "stdout",
          "text": [
            "                               Accuracy  Balanced Accuracy  ROC AUC  F1 Score  \\\n",
            "Model                                                                           \n",
            "RandomForestClassifier             0.95               0.84     0.84      0.95   \n",
            "XGBClassifier                      0.95               0.83     0.83      0.95   \n",
            "LGBMClassifier                     0.95               0.83     0.83      0.95   \n",
            "DecisionTreeClassifier             0.95               0.83     0.83      0.95   \n",
            "BaggingClassifier                  0.95               0.83     0.83      0.95   \n",
            "ExtraTreeClassifier                0.95               0.83     0.83      0.95   \n",
            "ExtraTreesClassifier               0.95               0.83     0.83      0.95   \n",
            "KNeighborsClassifier               0.94               0.81     0.81      0.94   \n",
            "AdaBoostClassifier                 0.92               0.70     0.70      0.91   \n",
            "LabelSpreading                     0.91               0.64     0.64      0.89   \n",
            "LabelPropagation                   0.91               0.64     0.64      0.89   \n",
            "SVC                                0.90               0.59     0.59      0.87   \n",
            "NearestCentroid                    0.70               0.57     0.57      0.74   \n",
            "GaussianNB                         0.86               0.57     0.57      0.84   \n",
            "Perceptron                         0.72               0.55     0.55      0.76   \n",
            "QuadraticDiscriminantAnalysis      0.88               0.55     0.55      0.84   \n",
            "LinearDiscriminantAnalysis         0.88               0.55     0.55      0.84   \n",
            "BernoulliNB                        0.88               0.54     0.54      0.84   \n",
            "CalibratedClassifierCV             0.88               0.53     0.53      0.84   \n",
            "LogisticRegression                 0.88               0.51     0.51      0.82   \n",
            "SGDClassifier                      0.87               0.50     0.50      0.82   \n",
            "DummyClassifier                    0.88               0.50     0.50      0.82   \n",
            "RidgeClassifier                    0.88               0.50     0.50      0.82   \n",
            "RidgeClassifierCV                  0.88               0.50     0.50      0.82   \n",
            "LinearSVC                          0.88               0.50     0.50      0.82   \n",
            "PassiveAggressiveClassifier        0.83               0.48     0.48      0.80   \n",
            "\n",
            "                               Time Taken  \n",
            "Model                                      \n",
            "RandomForestClassifier               0.42  \n",
            "XGBClassifier                        0.26  \n",
            "LGBMClassifier                       0.10  \n",
            "DecisionTreeClassifier               0.14  \n",
            "BaggingClassifier                    0.19  \n",
            "ExtraTreeClassifier                  0.12  \n",
            "ExtraTreesClassifier                 0.99  \n",
            "KNeighborsClassifier                 0.09  \n",
            "AdaBoostClassifier                   0.74  \n",
            "LabelSpreading                       1.25  \n",
            "LabelPropagation                     0.98  \n",
            "SVC                                  0.39  \n",
            "NearestCentroid                      0.10  \n",
            "GaussianNB                           0.03  \n",
            "Perceptron                           0.02  \n",
            "QuadraticDiscriminantAnalysis        0.02  \n",
            "LinearDiscriminantAnalysis           0.05  \n",
            "BernoulliNB                          0.11  \n",
            "CalibratedClassifierCV               4.10  \n",
            "LogisticRegression                   0.04  \n",
            "SGDClassifier                        0.05  \n",
            "DummyClassifier                      0.11  \n",
            "RidgeClassifier                      0.03  \n",
            "RidgeClassifierCV                    0.04  \n",
            "LinearSVC                            0.28  \n",
            "PassiveAggressiveClassifier          0.02  \n"
          ]
        },
        {
          "output_type": "stream",
          "name": "stderr",
          "text": [
            "\n"
          ]
        }
      ]
    },
    {
      "cell_type": "code",
      "source": [
        "from sklearn.ensemble import RandomForestClassifier\n",
        "from sklearn.metrics import accuracy_score, confusion_matrix, precision_score, recall_score, ConfusionMatrixDisplay\n",
        "from sklearn.model_selection import RandomizedSearchCV, train_test_split\n",
        "from scipy.stats import randint\n",
        "rf = RandomForestClassifier()\n",
        "rf.fit(xtrain, ytrain)\n",
        "y_pred = rf.predict(xtest)\n",
        "accuracy = accuracy_score(ytest, y_pred)\n",
        "print(\"Accuracy:\", accuracy)"
      ],
      "metadata": {
        "colab": {
          "base_uri": "https://localhost:8080/"
        },
        "id": "6fGIAhhXFygt",
        "outputId": "db74d312-c92f-4735-d3c9-e395ae3835d6"
      },
      "execution_count": 26,
      "outputs": [
        {
          "output_type": "stream",
          "name": "stdout",
          "text": [
            "Accuracy: 0.952\n"
          ]
        }
      ]
    },
    {
      "cell_type": "code",
      "source": [],
      "metadata": {
        "id": "NOZv5Y_-JSqW"
      },
      "execution_count": null,
      "outputs": []
    }
  ]
}